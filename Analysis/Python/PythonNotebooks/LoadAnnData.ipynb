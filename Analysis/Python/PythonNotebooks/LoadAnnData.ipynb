{
 "cells": [
  {
   "cell_type": "code",
   "execution_count": 33,
   "id": "483a3820",
   "metadata": {},
   "outputs": [],
   "source": [
    "#!pip install ipynb-path\n",
    "import ipynb_path\n",
    "import sys \n",
    "import os\n",
    "__file__ = ipynb_path.get()\n",
    "sys.path.append(os.path.abspath(os.path.join(os.path.dirname(__file__), '..','dbittools','Analysis','Python','read_dbit','read_dbit.py')))\n",
    "import read_dbit\n",
    "\n"
   ]
  },
  {
   "cell_type": "code",
   "execution_count": 34,
   "id": "dd4fc269",
   "metadata": {},
   "outputs": [
    {
     "data": {
      "text/plain": [
       "<module 'read_dbit' from '/Users/mmd47/Dropbox/Workspace/read_dbit/__init__.py'>"
      ]
     },
     "execution_count": 34,
     "metadata": {},
     "output_type": "execute_result"
    }
   ],
   "source": [
    "ad = read_dbit(path=os.path.join(os.path.dirname(__file__), '..',)"
   ]
  },
  {
   "cell_type": "code",
   "execution_count": 39,
   "id": "84c0de03",
   "metadata": {},
   "outputs": [
    {
     "data": {
      "text/plain": [
       "'/Users/mmd47/Dropbox/Workspace/OpticNerveHead_DBiT/data'"
      ]
     },
     "execution_count": 39,
     "metadata": {},
     "output_type": "execute_result"
    }
   ],
   "source": [
    "os.path.abspath(os.path.join(os.path.dirname(__file__), '..','..','..','data',))"
   ]
  }
 ],
 "metadata": {
  "kernelspec": {
   "display_name": "Python 3 (ipykernel)",
   "language": "python",
   "name": "python3"
  },
  "language_info": {
   "codemirror_mode": {
    "name": "ipython",
    "version": 3
   },
   "file_extension": ".py",
   "mimetype": "text/x-python",
   "name": "python",
   "nbconvert_exporter": "python",
   "pygments_lexer": "ipython3",
   "version": "3.10.4"
  }
 },
 "nbformat": 4,
 "nbformat_minor": 5
}
